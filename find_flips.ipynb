{
 "cells": [
  {
   "cell_type": "code",
   "execution_count": 2,
   "metadata": {},
   "outputs": [],
   "source": [
    "import pandas as pd\n",
    "# only load strain, country,date cols. Import them as strings\n",
    "metadata = pd.read_csv(\"~/Desktop/metadata.tsv.gz\", sep=\"\\t\", usecols=[\"strain\", \"country\", \"date\"], dtype=str)\n"
   ]
  },
  {
   "cell_type": "code",
   "execution_count": 3,
   "metadata": {},
   "outputs": [],
   "source": [
    "def date_to_month(date):\n",
    "    components = date.split(\"-\")\n",
    "    if len(components) >=2:\n",
    "        return components[0] + \"-\" + components[1]\n",
    "    else:\n",
    "        return \"?\"\n",
    "# coerce to string to avoid errors\n",
    "metadata[\"date\"] = metadata[\"date\"].astype(str)\n",
    "metadata[\"month\"] = metadata[\"date\"].apply(date_to_month)\n",
    "# filter out rows with unknown month\n",
    "metadata = metadata[metadata[\"month\"] != \"?\"]"
   ]
  },
  {
   "cell_type": "code",
   "execution_count": 4,
   "metadata": {},
   "outputs": [],
   "source": [
    "metadata.set_index(\"strain\", inplace=True)"
   ]
  },
  {
   "cell_type": "code",
   "execution_count": 9,
   "metadata": {},
   "outputs": [],
   "source": [
    "strain_to_countrymonth = {}\n",
    "for strain, row in metadata.iterrows():\n",
    "    strain_to_countrymonth[strain] = row[\"country\"] + \"|\" + row[\"month\"]"
   ]
  },
  {
   "cell_type": "code",
   "execution_count": 20,
   "metadata": {},
   "outputs": [
    {
     "name": "stderr",
     "output_type": "stream",
     "text": [
      "14518753it [11:05, 21803.06it/s]\n"
     ]
    }
   ],
   "source": [
    "alignment_file =  \"/Users/theosanderson/Desktop/aligned.fasta.zst\"\n",
    "import zstandard as zstd\n",
    "from Bio import SeqIO\n",
    "\n",
    "import lzma, tqdm, random\n",
    "\n",
    "from collections import defaultdict, Counter\n",
    "total = 7e6\n",
    "\n",
    "def identify_changing_sites():\n",
    "    # loop over the alignment file, but randomly filter to just 0.1% of the sequences\n",
    "    # to speed things up\n",
    "    # count the characters at each site for these \n",
    "    site_counts = defaultdict(Counter)\n",
    "    with zstd.open(alignment_file, \"rt\") as handle:\n",
    "        for count, record in enumerate(tqdm.tqdm(SeqIO.parse(handle, \"fasta\"), total=total)):\n",
    "            if random.random() < 0.001:\n",
    "                for i in range(len(record.seq)):\n",
    "                    character = record.seq[i]\n",
    "                    site_counts[i][character] += 1\n",
    "    \n",
    "    # for each site, ignore Ns, then see if the top-most character is less than 95% of the total\n",
    "    # if so, then we have a changing site\n",
    "    changing_sites = []\n",
    "    for site, counts in site_counts.items():\n",
    "        counts['N'] = 0\n",
    "        total = sum(counts.values())\n",
    "        top_count = max(counts.values())\n",
    "        if top_count < total * 0.95:\n",
    "            changing_sites.append(site)\n",
    "    return changing_sites\n",
    "\n",
    "\n",
    "changing_sites = identify_changing_sites()"
   ]
  },
  {
   "cell_type": "code",
   "execution_count": 22,
   "metadata": {},
   "outputs": [],
   "source": [
    "changing_sites\n",
    "# filter out <= 134 and >= 29732\n",
    "changing_sites = [site for site in changing_sites if site > 134 and site < 29732]"
   ]
  },
  {
   "cell_type": "code",
   "execution_count": 25,
   "metadata": {},
   "outputs": [
    {
     "name": "stderr",
     "output_type": "stream",
     "text": [
      "14518753it [17:11, 14076.08it/s]                               \n"
     ]
    }
   ],
   "source": [
    "\n",
    "def do_it():\n",
    "\n",
    "    def get_a_defaultdict_of_counters():\n",
    "        return defaultdict(Counter)\n",
    "\n",
    "    alread_seen = set()\n",
    "\n",
    "    by_countrymonth = defaultdict(get_a_defaultdict_of_counters)\n",
    "    with zstd.open(alignment_file, \"rt\") as handle:\n",
    "        for count, record in enumerate(tqdm.tqdm(SeqIO.parse(handle, \"fasta\"), total=7e6)):\n",
    "            if record.id in alread_seen:\n",
    "                continue\n",
    "            alread_seen.add(record.id)\n",
    "            if record.id in strain_to_countrymonth:\n",
    "                countrymonth = strain_to_countrymonth[record.id]\n",
    "                for i in changing_sites:\n",
    "                    character = record.seq[i]\n",
    "                    by_countrymonth[countrymonth][i][character] += 1\n",
    "    return by_countrymonth\n",
    "                \n",
    "by_countrymonth = do_it()"
   ]
  },
  {
   "cell_type": "code",
   "execution_count": 38,
   "metadata": {},
   "outputs": [],
   "source": [
    "keys = list(by_countrymonth.keys())\n",
    "uk_keys = sorted([key for key in keys if key.startswith(\"United Kingdom\")])\n",
    "\n",
    "from collections import defaultdict\n",
    "\n",
    "states = {}\n",
    "top_value = {}\n",
    "num_transitions = defaultdict(int)\n",
    "\n",
    "def prop_to_state(prop):\n",
    "    if prop<0.4:\n",
    "        return \"low\"\n",
    "    elif prop<0.6:\n",
    "        return \"medium\"\n",
    "    else:\n",
    "        return \"high\"\n",
    "\n",
    "\n",
    "cur_states = defaultdict(str)\n",
    "cur_tops = defaultdict(str)\n",
    "total_transitions = defaultdict(int)\n",
    "transitions = defaultdict(list)\n",
    "for key in uk_keys:\n",
    "    # get the prop from the top \n",
    "    counts = by_countrymonth[key]\n",
    "    # get proportions for each site in descending order\n",
    "    props = {site: sorted([(char, count/sum(counts[site].values())) for char, count in counts[site].items()], key=lambda x: x[1], reverse=True) for site in counts}\n",
    "    # get the top prop for each site\n",
    "    top_props = {site: props[site][0][1] for site in props}\n",
    "    # get the state for each site\n",
    "    states = {site: prop_to_state(top_props[site]) for site in top_props}\n",
    "    # get the top character for each site\n",
    "    top_chars = {site: props[site][0][0] for site in props}\n",
    "    \n",
    "    # if either the state or the top character has changed, then we have a transition\n",
    "    for site in states:\n",
    "        if states[site] != cur_states[site] or top_chars[site] != cur_tops[site]:\n",
    "            if states[site]==\"high\":\n",
    "                total_transitions[site] += 1\n",
    "                transitions[site].append((key, states[site], top_chars[site]))\n",
    "            cur_states[site] = states[site]\n",
    "            cur_tops[site] = top_chars[site]\n",
    "            \n",
    "\n",
    "\n"
   ]
  },
  {
   "cell_type": "code",
   "execution_count": 39,
   "metadata": {},
   "outputs": [
    {
     "data": {
      "text/plain": [
       "[(21764, 6),\n",
       " (21765, 6),\n",
       " (21766, 6),\n",
       " (21767, 6),\n",
       " (21768, 6),\n",
       " (21769, 6),\n",
       " (28880, 6),\n",
       " (28881, 6),\n",
       " (28882, 6),\n",
       " (21991, 5),\n",
       " (21992, 5),\n",
       " (21993, 5),\n",
       " (11287, 4),\n",
       " (11288, 4),\n",
       " (11289, 4),\n",
       " (11290, 4),\n",
       " (11291, 4),\n",
       " (11292, 4),\n",
       " (11293, 4),\n",
       " (11294, 4),\n",
       " (11295, 4),\n",
       " (21617, 4),\n",
       " (21845, 4),\n",
       " (21986, 4),\n",
       " (22916, 4),\n",
       " (23062, 4),\n",
       " (23603, 4),\n",
       " (209, 3),\n",
       " (912, 3),\n",
       " (2831, 3),\n",
       " (3266, 3),\n",
       " (4180, 3),\n",
       " (5385, 3),\n",
       " (5387, 3),\n",
       " (5985, 3),\n",
       " (6401, 3),\n",
       " (6512, 3),\n",
       " (6513, 3),\n",
       " (6514, 3),\n",
       " (6953, 3),\n",
       " (7123, 3),\n",
       " (7850, 3),\n",
       " (8392, 3),\n",
       " (8985, 3),\n",
       " (9052, 3),\n",
       " (9865, 3),\n",
       " (11200, 3),\n",
       " (11284, 3),\n",
       " (11285, 3),\n",
       " (11286, 3),\n",
       " (11331, 3),\n",
       " (11536, 3),\n",
       " (13194, 3),\n",
       " (14675, 3),\n",
       " (15239, 3),\n",
       " (15278, 3),\n",
       " (15450, 3),\n",
       " (16175, 3),\n",
       " (16465, 3),\n",
       " (19219, 3),\n",
       " (21761, 3),\n",
       " (21987, 3),\n",
       " (21988, 3),\n",
       " (21989, 3),\n",
       " (21990, 3),\n",
       " (21994, 3),\n",
       " (22028, 3),\n",
       " (22029, 3),\n",
       " (22030, 3),\n",
       " (22031, 3),\n",
       " (22032, 3),\n",
       " (22033, 3),\n",
       " (22193, 3),\n",
       " (22194, 3),\n",
       " (22195, 3),\n",
       " (22672, 3),\n",
       " (22785, 3),\n",
       " (22897, 3),\n",
       " (23039, 3),\n",
       " (23047, 3),\n",
       " (23201, 3),\n",
       " (23270, 3),\n",
       " (23708, 3),\n",
       " (24129, 3),\n",
       " (24409, 3),\n",
       " (24502, 3),\n",
       " (24505, 3),\n",
       " (24913, 3),\n",
       " (25468, 3),\n",
       " (26529, 3),\n",
       " (26766, 3),\n",
       " (26857, 3),\n",
       " (27258, 3),\n",
       " (27381, 3),\n",
       " (27382, 3),\n",
       " (27383, 3),\n",
       " (27637, 3),\n",
       " (27751, 3),\n",
       " (27873, 3),\n",
       " (27971, 3),\n",
       " (28047, 3),\n",
       " (28110, 3),\n",
       " (28247, 3),\n",
       " (28248, 3),\n",
       " (28249, 3),\n",
       " (28250, 3),\n",
       " (28251, 3),\n",
       " (28252, 3),\n",
       " (28270, 3),\n",
       " (28279, 3),\n",
       " (28280, 3),\n",
       " (28281, 3),\n",
       " (28460, 3),\n",
       " (28915, 3),\n",
       " (28976, 3),\n",
       " (29401, 3),\n",
       " (669, 2),\n",
       " (2789, 2),\n",
       " (4183, 2),\n",
       " (4320, 2),\n",
       " (9343, 2),\n",
       " (9423, 2),\n",
       " (9533, 2),\n",
       " (10028, 2),\n",
       " (10197, 2),\n",
       " (10446, 2),\n",
       " (10448, 2),\n",
       " (12159, 2),\n",
       " (12879, 2),\n",
       " (15713, 2),\n",
       " (17039, 2),\n",
       " (17409, 2),\n",
       " (18162, 2),\n",
       " (19954, 2),\n",
       " (20054, 2),\n",
       " (21632, 2),\n",
       " (21633, 2),\n",
       " (21634, 2),\n",
       " (21635, 2),\n",
       " (21636, 2),\n",
       " (21637, 2),\n",
       " (21638, 2),\n",
       " (21639, 2),\n",
       " (21640, 2),\n",
       " (22199, 2),\n",
       " (22577, 2),\n",
       " (22598, 2),\n",
       " (22673, 2),\n",
       " (22678, 2),\n",
       " (22685, 2),\n",
       " (22687, 2),\n",
       " (22774, 2),\n",
       " (22791, 2),\n",
       " (22812, 2),\n",
       " (22881, 2),\n",
       " (22991, 2),\n",
       " (22994, 2),\n",
       " (23012, 2),\n",
       " (23017, 2),\n",
       " (23054, 2),\n",
       " (23074, 2),\n",
       " (23598, 2),\n",
       " (23853, 2),\n",
       " (23947, 2),\n",
       " (24423, 2),\n",
       " (24468, 2),\n",
       " (24999, 2),\n",
       " (25583, 2),\n",
       " (26059, 2),\n",
       " (26269, 2),\n",
       " (26528, 2),\n",
       " (26576, 2),\n",
       " (26708, 2),\n",
       " (27806, 2),\n",
       " (27888, 2),\n",
       " (28310, 2),\n",
       " (28361, 2),\n",
       " (28362, 2),\n",
       " (28363, 2),\n",
       " (28364, 2),\n",
       " (28365, 2),\n",
       " (28366, 2),\n",
       " (28367, 2),\n",
       " (28368, 2),\n",
       " (28369, 2),\n",
       " (29509, 2),\n",
       " (23524, 2),\n",
       " (2469, 1),\n",
       " (29699, 1)]"
      ]
     },
     "execution_count": 39,
     "metadata": {},
     "output_type": "execute_result"
    }
   ],
   "source": [
    "# list the sites with the most transitions\n",
    "sorted(total_transitions.items(), key=lambda x: x[1], reverse=True)"
   ]
  },
  {
   "cell_type": "code",
   "execution_count": 34,
   "metadata": {},
   "outputs": [
    {
     "data": {
      "text/plain": [
       "[('United Kingdom|2020-01', 'high', 'G'),\n",
       " ('United Kingdom|2021-01', 'high', '-'),\n",
       " ('United Kingdom|2021-06', 'high', 'G'),\n",
       " ('United Kingdom|2022-01', 'high', '-'),\n",
       " ('United Kingdom|2022-03', 'high', 'G'),\n",
       " ('United Kingdom|2022-06', 'high', '-')]"
      ]
     },
     "execution_count": 34,
     "metadata": {},
     "output_type": "execute_result"
    }
   ],
   "source": [
    "transitions[21769]"
   ]
  },
  {
   "cell_type": "code",
   "execution_count": null,
   "metadata": {},
   "outputs": [],
   "source": [
    "28880"
   ]
  },
  {
   "cell_type": "code",
   "execution_count": 35,
   "metadata": {},
   "outputs": [
    {
     "data": {
      "text/plain": [
       "[('United Kingdom|2020-01', 'high', 'G'),\n",
       " ('United Kingdom|2020-05', 'high', 'A'),\n",
       " ('United Kingdom|2020-09', 'high', 'G'),\n",
       " ('United Kingdom|2021-01', 'high', 'A'),\n",
       " ('United Kingdom|2021-06', 'high', 'T'),\n",
       " ('United Kingdom|2022-01', 'high', 'A')]"
      ]
     },
     "execution_count": 35,
     "metadata": {},
     "output_type": "execute_result"
    }
   ],
   "source": [
    "transitions[28880]"
   ]
  },
  {
   "cell_type": "code",
   "execution_count": null,
   "metadata": {},
   "outputs": [],
   "source": []
  }
 ],
 "metadata": {
  "kernelspec": {
   "display_name": "base",
   "language": "python",
   "name": "python3"
  },
  "language_info": {
   "codemirror_mode": {
    "name": "ipython",
    "version": 3
   },
   "file_extension": ".py",
   "mimetype": "text/x-python",
   "name": "python",
   "nbconvert_exporter": "python",
   "pygments_lexer": "ipython3",
   "version": "3.9.12"
  },
  "orig_nbformat": 4,
  "vscode": {
   "interpreter": {
    "hash": "0e19b12203ebac0ec1611bdfbfce2523b44a2a3630b130ab2601fd584bf5b954"
   }
  }
 },
 "nbformat": 4,
 "nbformat_minor": 2
}
